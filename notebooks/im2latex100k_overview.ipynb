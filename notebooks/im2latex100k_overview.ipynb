{
 "cells": [
  {
   "cell_type": "code",
   "execution_count": 84,
   "id": "d6f4be7a",
   "metadata": {},
   "outputs": [],
   "source": [
    "%matplotlib inline\n",
    "%config InlineBackend.figure_format = \"retina\"\n",
    "\n",
    "import matplotlib.pyplot as plt\n",
    "import torch\n",
    "import torchvision.transforms.functional as TF\n",
    "from torchvision import datasets, transforms\n",
    "\n",
    "import math\n",
    "import os\n",
    "import json\n",
    "import codecs\n",
    "import pandas as pd\n",
    "import io \n",
    "import numpy as np\n",
    "from pathlib import Path\n",
    "from PIL import Image, ImageDraw\n"
   ]
  },
  {
   "cell_type": "markdown",
   "id": "93937160",
   "metadata": {},
   "source": [
    "## Im2Latex-100k dataset\n",
    "\n",
    "Source: https://zenodo.org/record/56198"
   ]
  },
  {
   "cell_type": "code",
   "execution_count": 89,
   "id": "bff7c60f",
   "metadata": {},
   "outputs": [
    {
     "data": {
      "text/html": [
       "<div>\n",
       "<style scoped>\n",
       "    .dataframe tbody tr th:only-of-type {\n",
       "        vertical-align: middle;\n",
       "    }\n",
       "\n",
       "    .dataframe tbody tr th {\n",
       "        vertical-align: top;\n",
       "    }\n",
       "\n",
       "    .dataframe thead th {\n",
       "        text-align: right;\n",
       "    }\n",
       "</style>\n",
       "<table border=\"1\" class=\"dataframe\">\n",
       "  <thead>\n",
       "    <tr style=\"text-align: right;\">\n",
       "      <th></th>\n",
       "      <th>image_id</th>\n",
       "      <th>image_path</th>\n",
       "      <th>record_type</th>\n",
       "      <th>latex_label</th>\n",
       "    </tr>\n",
       "  </thead>\n",
       "  <tbody>\n",
       "    <tr>\n",
       "      <th>0</th>\n",
       "      <td>1</td>\n",
       "      <td>/home/imba/Work/publaynet-analysis/data/im2lat...</td>\n",
       "      <td>basic</td>\n",
       "      <td>ds^{2} = (1 - {qcos\\theta\\over r})^{2\\over 1 +...</td>\n",
       "    </tr>\n",
       "    <tr>\n",
       "      <th>1</th>\n",
       "      <td>2</td>\n",
       "      <td>/home/imba/Work/publaynet-analysis/data/im2lat...</td>\n",
       "      <td>basic</td>\n",
       "      <td>\\widetilde\\gamma_{\\rm hopf}\\simeq\\sum_{n&gt;0}\\wi...</td>\n",
       "    </tr>\n",
       "    <tr>\n",
       "      <th>2</th>\n",
       "      <td>3</td>\n",
       "      <td>/home/imba/Work/publaynet-analysis/data/im2lat...</td>\n",
       "      <td>basic</td>\n",
       "      <td>({\\cal L}_a g)_{ij} = 0, \\ \\ \\ \\ ({\\cal L}_a H...</td>\n",
       "    </tr>\n",
       "    <tr>\n",
       "      <th>3</th>\n",
       "      <td>4</td>\n",
       "      <td>/home/imba/Work/publaynet-analysis/data/im2lat...</td>\n",
       "      <td>basic</td>\n",
       "      <td>S_{stat} = 2\\pi \\sqrt{N_5^{(1)} N_5^{(2)} N_5^...</td>\n",
       "    </tr>\n",
       "    <tr>\n",
       "      <th>4</th>\n",
       "      <td>5</td>\n",
       "      <td>/home/imba/Work/publaynet-analysis/data/im2lat...</td>\n",
       "      <td>basic</td>\n",
       "      <td>\\hat N_3 = \\sum\\sp f_{j=1}a_j\\sp {\\dagger} a_j...</td>\n",
       "    </tr>\n",
       "    <tr>\n",
       "      <th>...</th>\n",
       "      <td>...</td>\n",
       "      <td>...</td>\n",
       "      <td>...</td>\n",
       "      <td>...</td>\n",
       "    </tr>\n",
       "    <tr>\n",
       "      <th>83879</th>\n",
       "      <td>103554</td>\n",
       "      <td>/home/imba/Work/publaynet-analysis/data/im2lat...</td>\n",
       "      <td>basic</td>\n",
       "      <td>G = dU^1 dV^1 + dU^2 dV^2 + (dY^1)^2 + (dY^2)^2~,</td>\n",
       "    </tr>\n",
       "    <tr>\n",
       "      <th>83880</th>\n",
       "      <td>103555</td>\n",
       "      <td>/home/imba/Work/publaynet-analysis/data/im2lat...</td>\n",
       "      <td>basic</td>\n",
       "      <td>\\psi * \\chi \\equiv V_{(\\infty,-1)}^{(0)}(\\psi)...</td>\n",
       "    </tr>\n",
       "    <tr>\n",
       "      <th>83881</th>\n",
       "      <td>103556</td>\n",
       "      <td>/home/imba/Work/publaynet-analysis/data/im2lat...</td>\n",
       "      <td>basic</td>\n",
       "      <td>D^{\\prime \\prime }=D^{\\prime }D+\\xi ^{\\prime }...</td>\n",
       "    </tr>\n",
       "    <tr>\n",
       "      <th>83882</th>\n",
       "      <td>103557</td>\n",
       "      <td>/home/imba/Work/publaynet-analysis/data/im2lat...</td>\n",
       "      <td>basic</td>\n",
       "      <td>\\Psi[A_i^a]\\rightarrow\\Psi[(A^{U})_i^{a}]</td>\n",
       "    </tr>\n",
       "    <tr>\n",
       "      <th>83883</th>\n",
       "      <td>103558</td>\n",
       "      <td>/home/imba/Work/publaynet-analysis/data/im2lat...</td>\n",
       "      <td>basic</td>\n",
       "      <td>\\label{L nr}L=L_{\\rm CM}(x,p)=\\sum_{k=1}^Np_kE...</td>\n",
       "    </tr>\n",
       "  </tbody>\n",
       "</table>\n",
       "<p>83884 rows × 4 columns</p>\n",
       "</div>"
      ],
      "text/plain": [
       "       image_id                                         image_path  \\\n",
       "0             1  /home/imba/Work/publaynet-analysis/data/im2lat...   \n",
       "1             2  /home/imba/Work/publaynet-analysis/data/im2lat...   \n",
       "2             3  /home/imba/Work/publaynet-analysis/data/im2lat...   \n",
       "3             4  /home/imba/Work/publaynet-analysis/data/im2lat...   \n",
       "4             5  /home/imba/Work/publaynet-analysis/data/im2lat...   \n",
       "...         ...                                                ...   \n",
       "83879    103554  /home/imba/Work/publaynet-analysis/data/im2lat...   \n",
       "83880    103555  /home/imba/Work/publaynet-analysis/data/im2lat...   \n",
       "83881    103556  /home/imba/Work/publaynet-analysis/data/im2lat...   \n",
       "83882    103557  /home/imba/Work/publaynet-analysis/data/im2lat...   \n",
       "83883    103558  /home/imba/Work/publaynet-analysis/data/im2lat...   \n",
       "\n",
       "      record_type                                        latex_label  \n",
       "0           basic  ds^{2} = (1 - {qcos\\theta\\over r})^{2\\over 1 +...  \n",
       "1           basic  \\widetilde\\gamma_{\\rm hopf}\\simeq\\sum_{n>0}\\wi...  \n",
       "2           basic  ({\\cal L}_a g)_{ij} = 0, \\ \\ \\ \\ ({\\cal L}_a H...  \n",
       "3           basic  S_{stat} = 2\\pi \\sqrt{N_5^{(1)} N_5^{(2)} N_5^...  \n",
       "4           basic  \\hat N_3 = \\sum\\sp f_{j=1}a_j\\sp {\\dagger} a_j...  \n",
       "...           ...                                                ...  \n",
       "83879       basic  G = dU^1 dV^1 + dU^2 dV^2 + (dY^1)^2 + (dY^2)^2~,  \n",
       "83880       basic  \\psi * \\chi \\equiv V_{(\\infty,-1)}^{(0)}(\\psi)...  \n",
       "83881       basic  D^{\\prime \\prime }=D^{\\prime }D+\\xi ^{\\prime }...  \n",
       "83882       basic          \\Psi[A_i^a]\\rightarrow\\Psi[(A^{U})_i^{a}]  \n",
       "83883       basic  \\label{L nr}L=L_{\\rm CM}(x,p)=\\sum_{k=1}^Np_kE...  \n",
       "\n",
       "[83884 rows x 4 columns]"
      ]
     },
     "execution_count": 89,
     "metadata": {},
     "output_type": "execute_result"
    }
   ],
   "source": [
    "labels_raw = Path(\"../data/im2latex-100k/labels/im2latex_train.lst\").read_text().split()\n",
    "labels_latex = Path(\"../data/im2latex-100k/labels/im2latex_formulas.lst\").open(newline=\"\\n\", encoding=\"ISO-8859-1\").read().split(\"\\n\")\n",
    "  \n",
    "# print(len(labels_raw)//3, len(labels_latex))\n",
    "labels = []\n",
    "while labels_raw:\n",
    "    rec_id = int(labels_raw.pop(0))\n",
    "    image_path = (Path.cwd() / \"..\" / \"data\" / \"im2latex-100k\" / \"formula_images\" / f\"{labels_raw.pop(0)}.png\").resolve()\n",
    "    rec_type = labels_raw.pop(0)\n",
    "    latex_label = labels_latex[rec_id]\n",
    "    \n",
    "    labels.append({\"image_id\": rec_id, \"image_path\": image_path, \"record_type\": rec_type, \"latex_label\": latex_label})\n",
    "\n",
    "labels = pd.DataFrame(labels)\n",
    "labels"
   ]
  },
  {
   "cell_type": "code",
   "execution_count": 128,
   "id": "ca3c7ba1",
   "metadata": {},
   "outputs": [
    {
     "name": "stdout",
     "output_type": "stream",
     "text": [
      "S[A]=\\frac{1}{4\\pi \\nu}\\int d^3y  \\epsilon^{\\mu\\nu\\rho}\\partial_{\\mu}A_{\\nu}A_{\\rho}+\\int d^3y J^{\\mu}A_{\\mu},\n"
     ]
    },
    {
     "data": {
      "image/png": "[encoded data removed]",
      "text/plain": [
       "<PIL.PngImagePlugin.PngImageFile image mode=P size=1654x2339 at 0x7FC2A1A7AF10>"
      ]
     },
     "execution_count": 128,
     "metadata": {},
     "output_type": "execute_result"
    }
   ],
   "source": [
    "def get_image(image_id, images):\n",
    "    \"\"\"Get image based on given annotation.\"\"\"\n",
    "    record = images[images[\"image_id\"] == image_id].reset_index()\n",
    "    return Image.open(str(record[\"image_path\"][0])), record\n",
    "\n",
    "\n",
    "image_id = 50500\n",
    "img, record = get_image(image_id, labels)\n",
    "\n",
    "print(record[\"latex_label\"][0])\n",
    "img"
   ]
  },
  {
   "cell_type": "markdown",
   "id": "6720a3ed",
   "metadata": {},
   "source": [
    "#### Dataset info"
   ]
  },
  {
   "cell_type": "code",
   "execution_count": 108,
   "id": "d65393cc",
   "metadata": {},
   "outputs": [
    {
     "name": "stdout",
     "output_type": "stream",
     "text": [
      "<class 'pandas.core.frame.DataFrame'>\n",
      "RangeIndex: 103559 entries, 0 to 103558\n",
      "Data columns (total 1 columns):\n",
      " #   Column    Non-Null Count   Dtype \n",
      "---  ------    --------------   ----- \n",
      " 0   formulas  103559 non-null  object\n",
      "dtypes: object(1)\n",
      "memory usage: 809.2+ KB\n"
     ]
    }
   ],
   "source": [
    "pd.DataFrame({\"formulas\": labels_latex}).info()"
   ]
  },
  {
   "cell_type": "code",
   "execution_count": 110,
   "id": "072d8746",
   "metadata": {},
   "outputs": [
    {
     "name": "stdout",
     "output_type": "stream",
     "text": [
      "\n",
      "dim = (1654, 2339)\n"
     ]
    }
   ],
   "source": [
    "print(f\"\\ndim = ({img.width}, {img.height})\")"
   ]
  },
  {
   "cell_type": "markdown",
   "id": "9584f88d",
   "metadata": {},
   "source": [
    "## Conclusion\n",
    "\n",
    "#### Pros\n",
    "\n",
    "1) Excellent dataset for decompiling images to latex mathematical formulas\n",
    "\n",
    "2) Easy to translate from latex to ascii math format for better interaction with screen readers\n",
    "\n",
    "3) Good for small to medium attention based architectures\n",
    "\n",
    "#### Cons\n",
    "\n",
    "1) Potentially too small of a dataset for larger architectures\n",
    "\n",
    "2) Dataset is not in optimal format, preprocessing needed\n",
    "\n",
    "### Points to focus on\n",
    "\n",
    "* To compensate for the screen reader nature, we could consider version of this dataset with ascii math format as target labels\n",
    "\n",
    "* Expanding dataset beyond calculus formulas (ie. linear algebra)\n",
    "   "
   ]
  },
  {
   "cell_type": "code",
   "execution_count": null,
   "id": "55b6b441",
   "metadata": {},
   "outputs": [],
   "source": []
  }
 ],
 "metadata": {
  "kernelspec": {
   "display_name": "Python 3",
   "language": "python",
   "name": "python3"
  },
  "language_info": {
   "codemirror_mode": {
    "name": "ipython",
    "version": 3
   },
   "file_extension": ".py",
   "mimetype": "text/x-python",
   "name": "python",
   "nbconvert_exporter": "python",
   "pygments_lexer": "ipython3",
   "version": "3.9.2"
  }
 },
 "nbformat": 4,
 "nbformat_minor": 5
}
